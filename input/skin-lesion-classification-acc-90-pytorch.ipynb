{
 "cells": [
  {
   "cell_type": "markdown",
   "metadata": {},
   "source": [
    "This is a very interesting task and it's very suitable for beginners, through this task you can learn about data analysis, data processing, model building, model training, parameter optimization and so on. When only use the images, with a common network, such as Resnet, Densenet, you can achieve a relatively good accuracy very easily. \n",
    "\n",
    "By analyzing the data, the basic information of the patient is also related to the classification of the diseased tissue. Therefore, if we can combine the case information to carry out the classification task, it will be a very meaningful work. Actually during clinical diagnosis, doctors will also combine different modal data to make comprehensive judgments.\n",
    "\n",
    "Due to the urgency of time, my current method only uses image data, and then I will consider adding the patient's personal information to the classification task to train a more complete model. I will update my kernel immediately once I finished.\n",
    "\n",
    "Before you really start, I strongly recommend you to read the material of pigmented lesions and dermatoscopic images[https://arxiv.org/abs/1803.10417]. After that, you can learn about the characteristics and distribution of the data from the task description and this kernel[https://www.kaggle.com/kmader/dermatology-mnist-loading-and-processing]\n",
    "\n",
    "In this kernel I have followed following steps for model building and evaluation: \n",
    "\n",
    "> Step 1. Data analysis and preprocessing\n",
    "\n",
    "> Step 2. Model building\n",
    "\n",
    "> Step 3. Model training\n",
    "\n",
    "> Step 4. Model evaluation\n",
    "\n",
    "I used the pytorch framework to complete the entire task. The code contains several common networks, such as Resnet, VGG, Densenet, and Inception. You only need to make minor changes on the code to complete the network switch. Without the hyperparameter adjustment, I used **Densenet-121 to achieve an accuracy of more than 90% on the validation set in 10 epochs.**\n",
    "\n"
   ]
  },
  {
   "cell_type": "markdown",
   "metadata": {},
   "source": [
    " ### First, import all libraries that used in this project"
   ]
  },
  {
   "cell_type": "code",
   "execution_count": 1,
   "metadata": {
    "_cell_guid": "b1076dfc-b9ad-4769-8c92-a6c4dae69d19",
    "_uuid": "8f2839f25d086af736a60e9eeb907d3b93b6e0e5"
   },
   "outputs": [
    {
     "name": "stdout",
     "output_type": "stream",
     "text": [
      "['.ipynb_checkpoints', 'archive', 'skin-lesion-classification-acc-90-pytorch.ipynb', 'test_database']\n"
     ]
    }
   ],
   "source": [
    "%matplotlib inline\n",
    "# python libraties\n",
    "import os, cv2,itertools\n",
    "import matplotlib.pyplot as plt\n",
    "import numpy as np\n",
    "import pandas as pd\n",
    "from tqdm import tqdm\n",
    "from glob import glob\n",
    "from PIL import Image\n",
    "\n",
    "# pytorch libraries\n",
    "import torch\n",
    "from torch import optim,nn\n",
    "from torch.autograd import Variable\n",
    "from torch.utils.data import DataLoader,Dataset\n",
    "from torchvision import models,transforms\n",
    "\n",
    "# sklearn libraries\n",
    "from sklearn.metrics import confusion_matrix\n",
    "from sklearn.model_selection import train_test_split\n",
    "from sklearn.metrics import classification_report\n",
    "\n",
    "# to make the results are reproducible\n",
    "np.random.seed(10)\n",
    "torch.manual_seed(10)\n",
    "torch.cuda.manual_seed(10)\n",
    "\n",
    "print(os.listdir(\"../input\"))"
   ]
  },
  {
   "cell_type": "markdown",
   "metadata": {},
   "source": [
    "## Step 1. Data analysis and preprocessing"
   ]
  },
  {
   "cell_type": "markdown",
   "metadata": {},
   "source": [
    "Get the all image data paths, match the row information in HAM10000_metadata.csv with its corresponding image"
   ]
  },
  {
   "cell_type": "code",
   "execution_count": 5,
   "metadata": {
    "_cell_guid": "79c7e3d0-c299-4dcb-8224-4455121ee9b0",
    "_uuid": "d629ff2d2480ee46fbb7e2d37f6b5fab8052498a"
   },
   "outputs": [],
   "source": [
    "data_dir = '../input/archive' #database directory\n",
    "all_image_path = glob(os.path.join(data_dir, '*', '*.jpg')) #find all files with jpg extension in database directory\n",
    "imageid_path_dict = {os.path.splitext(os.path.basename(x))[0]: x for x in all_image_path} #map base filaname to its path\n",
    "\n",
    "#TODO: this might be modified to only accomodate for malignant vs benign tumors\n",
    "lesion_type_dict = {\n",
    "    'nv': 'Melanocytic nevi',\n",
    "    'mel': 'Melanoma',\n",
    "    'bkl': 'Benign keratosis-like lesions ',\n",
    "    'bcc': 'Basal cell carcinoma',\n",
    "    'akiec': 'Actinic keratoses',\n",
    "    'vasc': 'Vascular lesions',\n",
    "    'df': 'Dermatofibroma'\n",
    "}"
   ]
  },
  {
   "cell_type": "markdown",
   "metadata": {},
   "source": [
    "This function is used to compute the mean and standard deviation on the whole dataset, will use for inputs normalization"
   ]
  },
  {
   "cell_type": "code",
   "execution_count": 3,
   "metadata": {},
   "outputs": [],
   "source": [
    "def compute_img_mean_std(image_paths):\n",
    "    \"\"\"\n",
    "        computing the mean and std of three channel on the whole dataset,\n",
    "        first we should normalize the image from 0-255 to 0-1\n",
    "    \"\"\"\n",
    "\n",
    "    img_h, img_w = 224, 224\n",
    "    imgs = []\n",
    "    means, stdevs = [], []\n",
    "\n",
    "    for i in tqdm(range(len(image_paths))):\n",
    "        img = cv2.imread(image_paths[i])\n",
    "        img = cv2.resize(img, (img_h, img_w))\n",
    "        imgs.append(img)\n",
    "\n",
    "    imgs = np.stack(imgs, axis=3)\n",
    "    print(imgs.shape)\n",
    "\n",
    "    imgs = imgs.astype(np.float32) / 255.\n",
    "\n",
    "    for i in range(3):\n",
    "        pixels = imgs[:, :, i, :].ravel()  # resize to one row\n",
    "        means.append(np.mean(pixels))\n",
    "        stdevs.append(np.std(pixels))\n",
    "\n",
    "    means.reverse()  # BGR --> RGB\n",
    "    stdevs.reverse()\n",
    "\n",
    "    print(\"normMean = {}\".format(means))\n",
    "    print(\"normStd = {}\".format(stdevs))\n",
    "    return means,stdevs"
   ]
  },
  {
   "cell_type": "markdown",
   "metadata": {},
   "source": [
    "Return the mean and std of RGB channels"
   ]
  },
  {
   "cell_type": "code",
   "execution_count": 4,
   "metadata": {},
   "outputs": [
    {
     "name": "stderr",
     "output_type": "stream",
     "text": [
      "100%|████████████████████████████████████████████████████████████████████████████| 10015/10015 [02:40<00:00, 62.26it/s]\n"
     ]
    },
    {
     "name": "stdout",
     "output_type": "stream",
     "text": [
      "(224, 224, 3, 10015)\n",
      "normMean = [0.7630327, 0.5456458, 0.5700465]\n",
      "normStd = [0.14092782, 0.15261382, 0.16997577]\n"
     ]
    }
   ],
   "source": [
    "norm_mean,norm_std = compute_img_mean_std(all_image_path)"
   ]
  },
  {
   "cell_type": "markdown",
   "metadata": {},
   "source": [
    "Add three columns to the original DataFrame:\n",
    "-path (image path)\n",
    "-cell_type (the whole name),\n",
    "-cell_type_idx (the corresponding index  of cell type, as the image label )"
   ]
  },
  {
   "cell_type": "code",
   "execution_count": 23,
   "metadata": {
    "scrolled": true
   },
   "outputs": [
    {
     "data": {
      "text/html": [
       "<div>\n",
       "<style scoped>\n",
       "    .dataframe tbody tr th:only-of-type {\n",
       "        vertical-align: middle;\n",
       "    }\n",
       "\n",
       "    .dataframe tbody tr th {\n",
       "        vertical-align: top;\n",
       "    }\n",
       "\n",
       "    .dataframe thead th {\n",
       "        text-align: right;\n",
       "    }\n",
       "</style>\n",
       "<table border=\"1\" class=\"dataframe\">\n",
       "  <thead>\n",
       "    <tr style=\"text-align: right;\">\n",
       "      <th></th>\n",
       "      <th>lesion_id</th>\n",
       "      <th>image_id</th>\n",
       "      <th>dx</th>\n",
       "      <th>dx_type</th>\n",
       "      <th>age</th>\n",
       "      <th>sex</th>\n",
       "      <th>localization</th>\n",
       "      <th>path</th>\n",
       "      <th>cell_type</th>\n",
       "      <th>cell_type_idx</th>\n",
       "    </tr>\n",
       "  </thead>\n",
       "  <tbody>\n",
       "    <tr>\n",
       "      <th>0</th>\n",
       "      <td>HAM_0000118</td>\n",
       "      <td>ISIC_0027419</td>\n",
       "      <td>bkl</td>\n",
       "      <td>histo</td>\n",
       "      <td>80.0</td>\n",
       "      <td>male</td>\n",
       "      <td>scalp</td>\n",
       "      <td>../input/archive\\HAM10000_images_part_1\\ISIC_0...</td>\n",
       "      <td>Benign keratosis-like lesions</td>\n",
       "      <td>2</td>\n",
       "    </tr>\n",
       "    <tr>\n",
       "      <th>1</th>\n",
       "      <td>HAM_0000118</td>\n",
       "      <td>ISIC_0025030</td>\n",
       "      <td>bkl</td>\n",
       "      <td>histo</td>\n",
       "      <td>80.0</td>\n",
       "      <td>male</td>\n",
       "      <td>scalp</td>\n",
       "      <td>../input/archive\\HAM10000_images_part_1\\ISIC_0...</td>\n",
       "      <td>Benign keratosis-like lesions</td>\n",
       "      <td>2</td>\n",
       "    </tr>\n",
       "    <tr>\n",
       "      <th>2</th>\n",
       "      <td>HAM_0002730</td>\n",
       "      <td>ISIC_0026769</td>\n",
       "      <td>bkl</td>\n",
       "      <td>histo</td>\n",
       "      <td>80.0</td>\n",
       "      <td>male</td>\n",
       "      <td>scalp</td>\n",
       "      <td>../input/archive\\HAM10000_images_part_1\\ISIC_0...</td>\n",
       "      <td>Benign keratosis-like lesions</td>\n",
       "      <td>2</td>\n",
       "    </tr>\n",
       "    <tr>\n",
       "      <th>3</th>\n",
       "      <td>HAM_0002730</td>\n",
       "      <td>ISIC_0025661</td>\n",
       "      <td>bkl</td>\n",
       "      <td>histo</td>\n",
       "      <td>80.0</td>\n",
       "      <td>male</td>\n",
       "      <td>scalp</td>\n",
       "      <td>../input/archive\\HAM10000_images_part_1\\ISIC_0...</td>\n",
       "      <td>Benign keratosis-like lesions</td>\n",
       "      <td>2</td>\n",
       "    </tr>\n",
       "    <tr>\n",
       "      <th>4</th>\n",
       "      <td>HAM_0001466</td>\n",
       "      <td>ISIC_0031633</td>\n",
       "      <td>bkl</td>\n",
       "      <td>histo</td>\n",
       "      <td>75.0</td>\n",
       "      <td>male</td>\n",
       "      <td>ear</td>\n",
       "      <td>../input/archive\\HAM10000_images_part_2\\ISIC_0...</td>\n",
       "      <td>Benign keratosis-like lesions</td>\n",
       "      <td>2</td>\n",
       "    </tr>\n",
       "  </tbody>\n",
       "</table>\n",
       "</div>"
      ],
      "text/plain": [
       "     lesion_id      image_id   dx dx_type   age   sex localization  \\\n",
       "0  HAM_0000118  ISIC_0027419  bkl   histo  80.0  male        scalp   \n",
       "1  HAM_0000118  ISIC_0025030  bkl   histo  80.0  male        scalp   \n",
       "2  HAM_0002730  ISIC_0026769  bkl   histo  80.0  male        scalp   \n",
       "3  HAM_0002730  ISIC_0025661  bkl   histo  80.0  male        scalp   \n",
       "4  HAM_0001466  ISIC_0031633  bkl   histo  75.0  male          ear   \n",
       "\n",
       "                                                path  \\\n",
       "0  ../input/archive\\HAM10000_images_part_1\\ISIC_0...   \n",
       "1  ../input/archive\\HAM10000_images_part_1\\ISIC_0...   \n",
       "2  ../input/archive\\HAM10000_images_part_1\\ISIC_0...   \n",
       "3  ../input/archive\\HAM10000_images_part_1\\ISIC_0...   \n",
       "4  ../input/archive\\HAM10000_images_part_2\\ISIC_0...   \n",
       "\n",
       "                        cell_type  cell_type_idx  \n",
       "0  Benign keratosis-like lesions               2  \n",
       "1  Benign keratosis-like lesions               2  \n",
       "2  Benign keratosis-like lesions               2  \n",
       "3  Benign keratosis-like lesions               2  \n",
       "4  Benign keratosis-like lesions               2  "
      ]
     },
     "execution_count": 23,
     "metadata": {},
     "output_type": "execute_result"
    }
   ],
   "source": [
    "df_original = pd.read_csv(os.path.join(data_dir, 'HAM10000_metadata.csv'))\n",
    "df_original['path'] = df_original['image_id'].map(imageid_path_dict.get)\n",
    "df_original['cell_type'] = df_original['dx'].map(lesion_type_dict.get)\n",
    "df_original['cell_type_idx'] = pd.Categorical(df_original['cell_type']).codes\n",
    "df_original.head()"
   ]
  },
  {
   "cell_type": "code",
   "execution_count": 24,
   "metadata": {
    "scrolled": true
   },
   "outputs": [
    {
     "data": {
      "text/plain": [
       "10015"
      ]
     },
     "execution_count": 24,
     "metadata": {},
     "output_type": "execute_result"
    }
   ],
   "source": [
    "len(df_original)"
   ]
  },
  {
   "cell_type": "code",
   "execution_count": 25,
   "metadata": {},
   "outputs": [
    {
     "name": "stdout",
     "output_type": "stream",
     "text": [
      "5514\n"
     ]
    }
   ],
   "source": [
    "# this will tell us how many images are associated with each lesion_id\n",
    "df_undup = df_original.groupby('lesion_id').count()\n",
    "# now we filter out lesion_id's that have only one image associated with it\n",
    "df_undup = df_undup[df_undup['image_id'] == 1]\n",
    "df_undup.reset_index(inplace=True)\n",
    "df_undup.head()\n",
    "print(len(df_undup))"
   ]
  },
  {
   "cell_type": "code",
   "execution_count": 26,
   "metadata": {},
   "outputs": [
    {
     "data": {
      "text/html": [
       "<div>\n",
       "<style scoped>\n",
       "    .dataframe tbody tr th:only-of-type {\n",
       "        vertical-align: middle;\n",
       "    }\n",
       "\n",
       "    .dataframe tbody tr th {\n",
       "        vertical-align: top;\n",
       "    }\n",
       "\n",
       "    .dataframe thead th {\n",
       "        text-align: right;\n",
       "    }\n",
       "</style>\n",
       "<table border=\"1\" class=\"dataframe\">\n",
       "  <thead>\n",
       "    <tr style=\"text-align: right;\">\n",
       "      <th></th>\n",
       "      <th>lesion_id</th>\n",
       "      <th>image_id</th>\n",
       "      <th>dx</th>\n",
       "      <th>dx_type</th>\n",
       "      <th>age</th>\n",
       "      <th>sex</th>\n",
       "      <th>localization</th>\n",
       "      <th>path</th>\n",
       "      <th>cell_type</th>\n",
       "      <th>cell_type_idx</th>\n",
       "      <th>duplicates</th>\n",
       "    </tr>\n",
       "  </thead>\n",
       "  <tbody>\n",
       "    <tr>\n",
       "      <th>0</th>\n",
       "      <td>HAM_0000118</td>\n",
       "      <td>ISIC_0027419</td>\n",
       "      <td>bkl</td>\n",
       "      <td>histo</td>\n",
       "      <td>80.0</td>\n",
       "      <td>male</td>\n",
       "      <td>scalp</td>\n",
       "      <td>../input/archive\\HAM10000_images_part_1\\ISIC_0...</td>\n",
       "      <td>Benign keratosis-like lesions</td>\n",
       "      <td>2</td>\n",
       "      <td>duplicated</td>\n",
       "    </tr>\n",
       "    <tr>\n",
       "      <th>1</th>\n",
       "      <td>HAM_0000118</td>\n",
       "      <td>ISIC_0025030</td>\n",
       "      <td>bkl</td>\n",
       "      <td>histo</td>\n",
       "      <td>80.0</td>\n",
       "      <td>male</td>\n",
       "      <td>scalp</td>\n",
       "      <td>../input/archive\\HAM10000_images_part_1\\ISIC_0...</td>\n",
       "      <td>Benign keratosis-like lesions</td>\n",
       "      <td>2</td>\n",
       "      <td>duplicated</td>\n",
       "    </tr>\n",
       "    <tr>\n",
       "      <th>2</th>\n",
       "      <td>HAM_0002730</td>\n",
       "      <td>ISIC_0026769</td>\n",
       "      <td>bkl</td>\n",
       "      <td>histo</td>\n",
       "      <td>80.0</td>\n",
       "      <td>male</td>\n",
       "      <td>scalp</td>\n",
       "      <td>../input/archive\\HAM10000_images_part_1\\ISIC_0...</td>\n",
       "      <td>Benign keratosis-like lesions</td>\n",
       "      <td>2</td>\n",
       "      <td>duplicated</td>\n",
       "    </tr>\n",
       "    <tr>\n",
       "      <th>3</th>\n",
       "      <td>HAM_0002730</td>\n",
       "      <td>ISIC_0025661</td>\n",
       "      <td>bkl</td>\n",
       "      <td>histo</td>\n",
       "      <td>80.0</td>\n",
       "      <td>male</td>\n",
       "      <td>scalp</td>\n",
       "      <td>../input/archive\\HAM10000_images_part_1\\ISIC_0...</td>\n",
       "      <td>Benign keratosis-like lesions</td>\n",
       "      <td>2</td>\n",
       "      <td>duplicated</td>\n",
       "    </tr>\n",
       "    <tr>\n",
       "      <th>4</th>\n",
       "      <td>HAM_0001466</td>\n",
       "      <td>ISIC_0031633</td>\n",
       "      <td>bkl</td>\n",
       "      <td>histo</td>\n",
       "      <td>75.0</td>\n",
       "      <td>male</td>\n",
       "      <td>ear</td>\n",
       "      <td>../input/archive\\HAM10000_images_part_2\\ISIC_0...</td>\n",
       "      <td>Benign keratosis-like lesions</td>\n",
       "      <td>2</td>\n",
       "      <td>duplicated</td>\n",
       "    </tr>\n",
       "  </tbody>\n",
       "</table>\n",
       "</div>"
      ],
      "text/plain": [
       "     lesion_id      image_id   dx dx_type   age   sex localization  \\\n",
       "0  HAM_0000118  ISIC_0027419  bkl   histo  80.0  male        scalp   \n",
       "1  HAM_0000118  ISIC_0025030  bkl   histo  80.0  male        scalp   \n",
       "2  HAM_0002730  ISIC_0026769  bkl   histo  80.0  male        scalp   \n",
       "3  HAM_0002730  ISIC_0025661  bkl   histo  80.0  male        scalp   \n",
       "4  HAM_0001466  ISIC_0031633  bkl   histo  75.0  male          ear   \n",
       "\n",
       "                                                path  \\\n",
       "0  ../input/archive\\HAM10000_images_part_1\\ISIC_0...   \n",
       "1  ../input/archive\\HAM10000_images_part_1\\ISIC_0...   \n",
       "2  ../input/archive\\HAM10000_images_part_1\\ISIC_0...   \n",
       "3  ../input/archive\\HAM10000_images_part_1\\ISIC_0...   \n",
       "4  ../input/archive\\HAM10000_images_part_2\\ISIC_0...   \n",
       "\n",
       "                        cell_type  cell_type_idx  duplicates  \n",
       "0  Benign keratosis-like lesions               2  duplicated  \n",
       "1  Benign keratosis-like lesions               2  duplicated  \n",
       "2  Benign keratosis-like lesions               2  duplicated  \n",
       "3  Benign keratosis-like lesions               2  duplicated  \n",
       "4  Benign keratosis-like lesions               2  duplicated  "
      ]
     },
     "execution_count": 26,
     "metadata": {},
     "output_type": "execute_result"
    }
   ],
   "source": [
    "# here we identify lesion_id's that have duplicate images and those that have only one image.\n",
    "def get_duplicates(x):\n",
    "    unique_list = list(df_undup['lesion_id'])\n",
    "    if x in unique_list:\n",
    "        return 'unduplicated'\n",
    "    else:\n",
    "        return 'duplicated'\n",
    "\n",
    "# create a new colum that is a copy of the lesion_id column\n",
    "df_original['duplicates'] = df_original['lesion_id']\n",
    "# apply the function to this new column\n",
    "df_original['duplicates'] = df_original['duplicates'].apply(get_duplicates)\n",
    "df_original.head()"
   ]
  },
  {
   "cell_type": "code",
   "execution_count": 27,
   "metadata": {},
   "outputs": [
    {
     "data": {
      "text/plain": [
       "unduplicated    5514\n",
       "duplicated      4501\n",
       "Name: duplicates, dtype: int64"
      ]
     },
     "execution_count": 27,
     "metadata": {},
     "output_type": "execute_result"
    }
   ],
   "source": [
    "df_original['duplicates'].value_counts()"
   ]
  },
  {
   "cell_type": "code",
   "execution_count": 28,
   "metadata": {},
   "outputs": [
    {
     "data": {
      "text/plain": [
       "(5514, 11)"
      ]
     },
     "execution_count": 28,
     "metadata": {},
     "output_type": "execute_result"
    }
   ],
   "source": [
    "# now we filter out images that don't have duplicates\n",
    "df_undup = df_original[df_original['duplicates'] == 'unduplicated']\n",
    "df_undup.shape"
   ]
  },
  {
   "cell_type": "code",
   "execution_count": 29,
   "metadata": {},
   "outputs": [
    {
     "data": {
      "text/plain": [
       "(1103, 11)"
      ]
     },
     "execution_count": 29,
     "metadata": {},
     "output_type": "execute_result"
    }
   ],
   "source": [
    "# now we create a validation set using df because we are sure that none of these images have augmented duplicates in the train set\n",
    "y = df_undup['cell_type_idx']\n",
    "_, df_val = train_test_split(df_undup, test_size=0.2, random_state=101, stratify=y)\n",
    "df_val.shape"
   ]
  },
  {
   "cell_type": "code",
   "execution_count": 30,
   "metadata": {},
   "outputs": [
    {
     "data": {
      "text/plain": [
       "4    883\n",
       "2     88\n",
       "5     46\n",
       "1     35\n",
       "0     30\n",
       "6     13\n",
       "3      8\n",
       "Name: cell_type_idx, dtype: int64"
      ]
     },
     "execution_count": 30,
     "metadata": {},
     "output_type": "execute_result"
    }
   ],
   "source": [
    "df_val['cell_type_idx'].value_counts()"
   ]
  },
  {
   "cell_type": "code",
   "execution_count": 31,
   "metadata": {},
   "outputs": [
    {
     "name": "stdout",
     "output_type": "stream",
     "text": [
      "8912\n",
      "1103\n"
     ]
    }
   ],
   "source": [
    "# This set will be df_original excluding all rows that are in the val set\n",
    "# This function identifies if an image is part of the train or val set.\n",
    "def get_val_rows(x):\n",
    "    # create a list of all the lesion_id's in the val set\n",
    "    val_list = list(df_val['image_id'])\n",
    "    if str(x) in val_list:\n",
    "        return 'val'\n",
    "    else:\n",
    "        return 'train'\n",
    "\n",
    "# identify train and val rows\n",
    "# create a new colum that is a copy of the image_id column\n",
    "df_original['train_or_val'] = df_original['image_id']\n",
    "# apply the function to this new column\n",
    "df_original['train_or_val'] = df_original['train_or_val'].apply(get_val_rows)\n",
    "# filter out train rows\n",
    "df_train = df_original[df_original['train_or_val'] == 'train']\n",
    "print(len(df_train))\n",
    "print(len(df_val))"
   ]
  },
  {
   "cell_type": "code",
   "execution_count": 32,
   "metadata": {},
   "outputs": [
    {
     "data": {
      "text/plain": [
       "Melanocytic nevi                  5822\n",
       "Melanoma                          1067\n",
       "Benign keratosis-like lesions     1011\n",
       "Basal cell carcinoma               479\n",
       "Actinic keratoses                  297\n",
       "Vascular lesions                   129\n",
       "Dermatofibroma                     107\n",
       "Name: cell_type, dtype: int64"
      ]
     },
     "execution_count": 32,
     "metadata": {},
     "output_type": "execute_result"
    }
   ],
   "source": [
    "df_train['cell_type'].value_counts()"
   ]
  },
  {
   "cell_type": "code",
   "execution_count": 19,
   "metadata": {},
   "outputs": [
    {
     "data": {
      "text/plain": [
       "Melanocytic nevi                  883\n",
       "Benign keratosis-like lesions      88\n",
       "Melanoma                           46\n",
       "Basal cell carcinoma               35\n",
       "Actinic keratoses                  30\n",
       "Vascular lesions                   13\n",
       "Dermatofibroma                      8\n",
       "Name: cell_type, dtype: int64"
      ]
     },
     "execution_count": 19,
     "metadata": {},
     "output_type": "execute_result"
    }
   ],
   "source": [
    "df_val['cell_type'].value_counts()"
   ]
  },
  {
   "cell_type": "markdown",
   "metadata": {},
   "source": [
    "**From From the above statistics of each category, we can see that there is a serious class imbalance in the training data. To solve this problem, I think we can start from two aspects, one is equalization sampling, and the other is a loss function that can be used to mitigate category imbalance during training, such as focal loss.**"
   ]
  },
  {
   "cell_type": "code",
   "execution_count": 20,
   "metadata": {},
   "outputs": [
    {
     "data": {
      "text/plain": [
       "Melanoma                          42680\n",
       "Melanocytic nevi                   5822\n",
       "Dermatofibroma                     5350\n",
       "Benign keratosis-like lesions      5055\n",
       "Basal cell carcinoma               4790\n",
       "Actinic keratoses                  4455\n",
       "Vascular lesions                    645\n",
       "Name: cell_type, dtype: int64"
      ]
     },
     "execution_count": 20,
     "metadata": {},
     "output_type": "execute_result"
    }
   ],
   "source": [
    "# Copy fewer class to balance the number of 7 classes\n",
    "data_aug_rate = [15,10,5,50,0,40,5]\n",
    "for i in range(7):\n",
    "    if data_aug_rate[i]:\n",
    "        df_train=df_train.append([df_train.loc[df_train['cell_type_idx'] == i,:]]*(data_aug_rate[i]-1), ignore_index=True)\n",
    "df_train['cell_type'].value_counts()"
   ]
  },
  {
   "cell_type": "markdown",
   "metadata": {},
   "source": [
    "At the beginning, I divided the data into three parts, training set, validation set and test set. Considering the small amount of data, I did not further divide the validation set data in practice."
   ]
  },
  {
   "cell_type": "code",
   "execution_count": 21,
   "metadata": {},
   "outputs": [],
   "source": [
    "# # We can split the test set again in a validation set and a true test set:\n",
    "# df_val, df_test = train_test_split(df_val, test_size=0.5)\n",
    "df_train = df_train.reset_index()\n",
    "df_val = df_val.reset_index()\n",
    "# df_test = df_test.reset_index()"
   ]
  },
  {
   "cell_type": "code",
   "execution_count": 2,
   "metadata": {},
   "outputs": [
    {
     "ename": "NameError",
     "evalue": "name 'df_train' is not defined",
     "output_type": "error",
     "traceback": [
      "\u001b[1;31m---------------------------------------------------------------------------\u001b[0m",
      "\u001b[1;31mNameError\u001b[0m                                 Traceback (most recent call last)",
      "\u001b[1;32m~\\AppData\\Local\\Temp/ipykernel_28240/1583968764.py\u001b[0m in \u001b[0;36m<module>\u001b[1;34m\u001b[0m\n\u001b[1;32m----> 1\u001b[1;33m \u001b[0mlen\u001b[0m\u001b[1;33m(\u001b[0m\u001b[0mdf_train\u001b[0m\u001b[1;33m)\u001b[0m\u001b[1;33m\u001b[0m\u001b[1;33m\u001b[0m\u001b[0m\n\u001b[0m",
      "\u001b[1;31mNameError\u001b[0m: name 'df_train' is not defined"
     ]
    }
   ],
   "source": [
    "len(df_train)"
   ]
  },
  {
   "cell_type": "markdown",
   "metadata": {},
   "source": [
    "## Step 2. Model building"
   ]
  },
  {
   "cell_type": "code",
   "execution_count": 20,
   "metadata": {},
   "outputs": [],
   "source": [
    "# feature_extract is a boolean that defines if we are finetuning or feature extracting. \n",
    "# If feature_extract = False, the model is finetuned and all model parameters are updated. \n",
    "# If feature_extract = True, only the last layer parameters are updated, the others remain fixed.\n",
    "def set_parameter_requires_grad(model, feature_extracting):\n",
    "    if feature_extracting:\n",
    "        for param in model.parameters():\n",
    "            param.requires_grad = False"
   ]
  },
  {
   "cell_type": "code",
   "execution_count": 21,
   "metadata": {},
   "outputs": [],
   "source": [
    "def initialize_model(model_name, num_classes, feature_extract, use_pretrained=True):\n",
    "    # Initialize these variables which will be set in this if statement. Each of these\n",
    "    #   variables is model specific.\n",
    "    model_ft = None\n",
    "    input_size = 0\n",
    "\n",
    "    if model_name == \"resnet\":\n",
    "        \"\"\" Resnet18, resnet34, resnet50, resnet101\n",
    "        \"\"\"\n",
    "        model_ft = models.resnet50(pretrained=use_pretrained)\n",
    "        set_parameter_requires_grad(model_ft, feature_extract)\n",
    "        num_ftrs = model_ft.fc.in_features\n",
    "        model_ft.fc = nn.Linear(num_ftrs, num_classes)\n",
    "        input_size = 224\n",
    "\n",
    "\n",
    "    elif model_name == \"vgg\":\n",
    "        \"\"\" VGG11_bn\n",
    "        \"\"\"\n",
    "        model_ft = models.vgg11_bn(pretrained=use_pretrained)\n",
    "        set_parameter_requires_grad(model_ft, feature_extract)\n",
    "        num_ftrs = model_ft.classifier[6].in_features\n",
    "        model_ft.classifier[6] = nn.Linear(num_ftrs,num_classes)\n",
    "        input_size = 224\n",
    "\n",
    "\n",
    "    elif model_name == \"densenet\":\n",
    "        \"\"\" Densenet121\n",
    "        \"\"\"\n",
    "        model_ft = models.densenet121(pretrained=use_pretrained)\n",
    "        set_parameter_requires_grad(model_ft, feature_extract)\n",
    "        num_ftrs = model_ft.classifier.in_features\n",
    "        model_ft.classifier = nn.Linear(num_ftrs, num_classes)\n",
    "        input_size = 224\n",
    "\n",
    "    elif model_name == \"inception\":\n",
    "        \"\"\" Inception v3\n",
    "        Be careful, expects (299,299) sized images and has auxiliary output\n",
    "        \"\"\"\n",
    "        model_ft = models.inception_v3(pretrained=use_pretrained)\n",
    "        set_parameter_requires_grad(model_ft, feature_extract)\n",
    "        # Handle the auxilary net\n",
    "        num_ftrs = model_ft.AuxLogits.fc.in_features\n",
    "        model_ft.AuxLogits.fc = nn.Linear(num_ftrs, num_classes)\n",
    "        # Handle the primary net\n",
    "        num_ftrs = model_ft.fc.in_features\n",
    "        model_ft.fc = nn.Linear(num_ftrs,num_classes)\n",
    "        input_size = 299\n",
    "\n",
    "    else:\n",
    "        print(\"Invalid model name, exiting...\")\n",
    "        exit()\n",
    "    return model_ft, input_size"
   ]
  },
  {
   "cell_type": "markdown",
   "metadata": {},
   "source": [
    "You can change your backbone network, here are 4 different networks, each network also has sevaral versions. Considering the limited training data, we used the ImageNet pre-training model for fine-tuning. This can speed up the convergence of the model and improve the accuracy.\n",
    "\n",
    "There is one thing you need to pay attention to, the input size of Inception is different from the others (299x299), you need to change the setting of compute_img_mean_std() function "
   ]
  },
  {
   "cell_type": "code",
   "execution_count": 22,
   "metadata": {},
   "outputs": [
    {
     "name": "stdout",
     "output_type": "stream",
     "text": [
      "cpu\n"
     ]
    }
   ],
   "source": [
    "# resnet,vgg,densenet,inception\n",
    "model_name = 'densenet'\n",
    "num_classes = 7\n",
    "feature_extract = False\n",
    "# Initialize the model for this run\n",
    "model_ft, input_size = initialize_model(model_name, num_classes, feature_extract, use_pretrained=True)\n",
    "\n",
    "if torch.cuda.is_available():\n",
    "    device = torch.device(\"cuda\")\n",
    "else:\n",
    "    device = torch.device(\"cpu\") #on laptop, use cpu torch\n",
    "\n",
    "# device = torch.device('cuda:0')\n",
    "print(device)\n",
    "# Put the model on the device:\n",
    "model = model_ft.to(device)"
   ]
  },
  {
   "cell_type": "code",
   "execution_count": 23,
   "metadata": {},
   "outputs": [],
   "source": [
    "# norm_mean = (0.49139968, 0.48215827, 0.44653124)\n",
    "# norm_std = (0.24703233, 0.24348505, 0.26158768)\n",
    "# define the transformation of the train images.\n",
    "train_transform = transforms.Compose([transforms.Resize((input_size,input_size)),transforms.RandomHorizontalFlip(),\n",
    "                                      transforms.RandomVerticalFlip(),transforms.RandomRotation(20),\n",
    "                                      transforms.ColorJitter(brightness=0.1, contrast=0.1, hue=0.1),\n",
    "                                        transforms.ToTensor(), transforms.Normalize(norm_mean, norm_std)])\n",
    "# define the transformation of the val images.\n",
    "val_transform = transforms.Compose([transforms.Resize((input_size,input_size)), transforms.ToTensor(),\n",
    "                                    transforms.Normalize(norm_mean, norm_std)])"
   ]
  },
  {
   "cell_type": "code",
   "execution_count": 24,
   "metadata": {},
   "outputs": [],
   "source": [
    "# Define a pytorch dataloader for this dataset\n",
    "class HAM10000(Dataset):\n",
    "    def __init__(self, df, transform=None):\n",
    "        self.df = df\n",
    "        self.transform = transform\n",
    "\n",
    "    def __len__(self):\n",
    "        return len(self.df)\n",
    "\n",
    "    def __getitem__(self, index):\n",
    "        # Load data and get label\n",
    "        X = Image.open(self.df['path'][index])\n",
    "        y = torch.tensor(int(self.df['cell_type_idx'][index]))\n",
    "\n",
    "        if self.transform:\n",
    "            X = self.transform(X)\n",
    "\n",
    "        return X, y"
   ]
  },
  {
   "cell_type": "code",
   "execution_count": 1,
   "metadata": {},
   "outputs": [
    {
     "ename": "NameError",
     "evalue": "name 'df_train' is not defined",
     "output_type": "error",
     "traceback": [
      "\u001b[1;31m---------------------------------------------------------------------------\u001b[0m",
      "\u001b[1;31mNameError\u001b[0m                                 Traceback (most recent call last)",
      "\u001b[1;32m~\\AppData\\Local\\Temp/ipykernel_28240/3276026331.py\u001b[0m in \u001b[0;36m<module>\u001b[1;34m\u001b[0m\n\u001b[1;32m----> 1\u001b[1;33m \u001b[0mdf_train\u001b[0m\u001b[1;33m[\u001b[0m\u001b[1;34m'class'\u001b[0m\u001b[1;33m]\u001b[0m\u001b[1;33m\u001b[0m\u001b[1;33m\u001b[0m\u001b[0m\n\u001b[0m",
      "\u001b[1;31mNameError\u001b[0m: name 'df_train' is not defined"
     ]
    }
   ],
   "source": [
    "df_train['class']"
   ]
  },
  {
   "cell_type": "code",
   "execution_count": 25,
   "metadata": {},
   "outputs": [],
   "source": [
    "# Define the training set using the table train_df and using our defined transitions (train_transform)\n",
    "training_set = HAM10000(df_train, transform=train_transform)\n",
    "#NOTE: previously set batch_size to 32\n",
    "train_loader = DataLoader(training_set, shuffle=True)\n",
    "#train_loader = DataLoader(training_set, batch_size=1, shuffle=True, num_workers=4)\n",
    "\n",
    "# Same for the validation set:\n",
    "validation_set = HAM10000(df_val, transform=train_transform)\n",
    "val_loader = DataLoader(validation_set, shuffle=False)\n",
    "#val_loader = DataLoader(validation_set, batch_size=1, shuffle=False, num_workers=4)"
   ]
  },
  {
   "cell_type": "code",
   "execution_count": 26,
   "metadata": {},
   "outputs": [],
   "source": [
    "# we use Adam optimizer, use cross entropy loss as our loss function\n",
    "optimizer = optim.Adam(model.parameters(), lr=1e-3)\n",
    "criterion = nn.CrossEntropyLoss().to(device)"
   ]
  },
  {
   "cell_type": "markdown",
   "metadata": {},
   "source": [
    "## Step 3. Model training"
   ]
  },
  {
   "cell_type": "code",
   "execution_count": 27,
   "metadata": {},
   "outputs": [],
   "source": [
    "# Used during training, to compute the loss and accuracy\n",
    "class AverageMeter(object):\n",
    "    def __init__(self):\n",
    "        self.reset()\n",
    "\n",
    "    def reset(self):\n",
    "        self.val = 0\n",
    "        self.avg = 0\n",
    "        self.sum = 0\n",
    "        self.count = 0\n",
    "\n",
    "    def update(self, val, n=1):\n",
    "        self.val = val\n",
    "        self.sum += val * n\n",
    "        self.count += n\n",
    "        self.avg = self.sum / self.count"
   ]
  },
  {
   "cell_type": "code",
   "execution_count": 28,
   "metadata": {},
   "outputs": [],
   "source": [
    "total_loss_train, total_acc_train = [],[]\n",
    "def train(train_loader, model, criterion, optimizer, epoch):\n",
    "    model.train()\n",
    "    train_loss = AverageMeter()\n",
    "    train_acc = AverageMeter()\n",
    "    curr_iter = (epoch - 1) * len(train_loader)\n",
    "    for i, data in enumerate(train_loader):\n",
    "        images, labels = data\n",
    "        N = images.size(0)\n",
    "        #print('image shape:',images.size(0), 'label shape',labels.size(0))\n",
    "        images = Variable(images).to(device)\n",
    "        labels = Variable(labels).to(device)\n",
    "\n",
    "        optimizer.zero_grad()\n",
    "        outputs = model(images)\n",
    "\n",
    "        loss = criterion(outputs, labels)\n",
    "        loss.backward()\n",
    "        optimizer.step()\n",
    "        prediction = outputs.max(1, keepdim=True)[1]\n",
    "        train_acc.update(prediction.eq(labels.view_as(prediction)).sum().item()/N)\n",
    "        train_loss.update(loss.item())\n",
    "        curr_iter += 1\n",
    "        if (i + 1) % 100 == 0:\n",
    "            print('[epoch %d], [iter %d / %d], [train loss %.5f], [train acc %.5f]' % (\n",
    "                epoch, i + 1, len(train_loader), train_loss.avg, train_acc.avg))\n",
    "            total_loss_train.append(train_loss.avg)\n",
    "            total_acc_train.append(train_acc.avg)\n",
    "    return train_loss.avg, train_acc.avg"
   ]
  },
  {
   "cell_type": "code",
   "execution_count": 29,
   "metadata": {},
   "outputs": [],
   "source": [
    "def validate(val_loader, model, criterion, optimizer, epoch):\n",
    "    model.eval()\n",
    "    val_loss = AverageMeter()\n",
    "    val_acc = AverageMeter()\n",
    "    with torch.no_grad():\n",
    "        for i, data in enumerate(val_loader):\n",
    "            images, labels = data\n",
    "            N = images.size(0)\n",
    "            images = Variable(images).to(device)\n",
    "            labels = Variable(labels).to(device)\n",
    "\n",
    "            outputs = model(images)\n",
    "            prediction = outputs.max(1, keepdim=True)[1]\n",
    "\n",
    "            val_acc.update(prediction.eq(labels.view_as(prediction)).sum().item()/N)\n",
    "\n",
    "            val_loss.update(criterion(outputs, labels).item())\n",
    "\n",
    "    print('------------------------------------------------------------')\n",
    "    print('[epoch %d], [val loss %.5f], [val acc %.5f]' % (epoch, val_loss.avg, val_acc.avg))\n",
    "    print('------------------------------------------------------------')\n",
    "    return val_loss.avg, val_acc.avg"
   ]
  },
  {
   "cell_type": "code",
   "execution_count": 30,
   "metadata": {},
   "outputs": [
    {
     "name": "stdout",
     "output_type": "stream",
     "text": [
      "[epoch 1], [iter 100 / 3127], [train loss 2.29561], [train acc 0.08000]\n",
      "[epoch 1], [iter 200 / 3127], [train loss 2.19931], [train acc 0.15500]\n",
      "[epoch 1], [iter 300 / 3127], [train loss 2.18325], [train acc 0.15000]\n",
      "[epoch 1], [iter 400 / 3127], [train loss 2.13940], [train acc 0.16250]\n",
      "[epoch 1], [iter 500 / 3127], [train loss 2.14568], [train acc 0.15400]\n",
      "[epoch 1], [iter 600 / 3127], [train loss 2.14581], [train acc 0.14833]\n",
      "[epoch 1], [iter 700 / 3127], [train loss 2.13724], [train acc 0.15286]\n",
      "[epoch 1], [iter 800 / 3127], [train loss 2.12747], [train acc 0.14750]\n",
      "[epoch 1], [iter 900 / 3127], [train loss 2.12911], [train acc 0.14333]\n",
      "[epoch 1], [iter 1000 / 3127], [train loss 2.13106], [train acc 0.14100]\n",
      "[epoch 1], [iter 1100 / 3127], [train loss 2.13186], [train acc 0.13636]\n",
      "[epoch 1], [iter 1200 / 3127], [train loss 2.13000], [train acc 0.13667]\n",
      "[epoch 1], [iter 1300 / 3127], [train loss 2.12979], [train acc 0.13769]\n",
      "[epoch 1], [iter 1400 / 3127], [train loss 2.12930], [train acc 0.13857]\n",
      "[epoch 1], [iter 1500 / 3127], [train loss 2.12586], [train acc 0.13933]\n",
      "[epoch 1], [iter 1600 / 3127], [train loss 2.11841], [train acc 0.14062]\n",
      "[epoch 1], [iter 1700 / 3127], [train loss 2.11189], [train acc 0.14176]\n",
      "[epoch 1], [iter 1800 / 3127], [train loss 2.11148], [train acc 0.14167]\n",
      "[epoch 1], [iter 1900 / 3127], [train loss 2.11380], [train acc 0.14263]\n",
      "[epoch 1], [iter 2000 / 3127], [train loss 2.11292], [train acc 0.13950]\n",
      "[epoch 1], [iter 2100 / 3127], [train loss 2.11126], [train acc 0.13952]\n",
      "[epoch 1], [iter 2200 / 3127], [train loss 2.10904], [train acc 0.14091]\n",
      "[epoch 1], [iter 2300 / 3127], [train loss 2.10477], [train acc 0.14174]\n",
      "[epoch 1], [iter 2400 / 3127], [train loss 2.10403], [train acc 0.14292]\n",
      "[epoch 1], [iter 2500 / 3127], [train loss 2.10157], [train acc 0.14280]\n",
      "[epoch 1], [iter 2600 / 3127], [train loss 2.09823], [train acc 0.14269]\n",
      "[epoch 1], [iter 2700 / 3127], [train loss 2.09733], [train acc 0.14333]\n",
      "[epoch 1], [iter 2800 / 3127], [train loss 2.09688], [train acc 0.14250]\n",
      "[epoch 1], [iter 2900 / 3127], [train loss 2.09554], [train acc 0.14345]\n",
      "[epoch 1], [iter 3000 / 3127], [train loss 2.09430], [train acc 0.14233]\n",
      "[epoch 1], [iter 3100 / 3127], [train loss 2.09406], [train acc 0.14290]\n",
      "------------------------------------------------------------\n",
      "[epoch 1], [val loss 3.34706], [val acc 0.69634]\n",
      "------------------------------------------------------------\n",
      "*****************************************************\n",
      "best record: [epoch 1], [val loss 3.34706], [val acc 0.69634]\n",
      "*****************************************************\n",
      "[epoch 2], [iter 100 / 3127], [train loss 2.03090], [train acc 0.16000]\n",
      "[epoch 2], [iter 200 / 3127], [train loss 2.05941], [train acc 0.13000]\n",
      "[epoch 2], [iter 300 / 3127], [train loss 2.05688], [train acc 0.12000]\n",
      "[epoch 2], [iter 400 / 3127], [train loss 2.05503], [train acc 0.13000]\n",
      "[epoch 2], [iter 500 / 3127], [train loss 2.04054], [train acc 0.15200]\n",
      "[epoch 2], [iter 600 / 3127], [train loss 2.04915], [train acc 0.14333]\n",
      "[epoch 2], [iter 700 / 3127], [train loss 2.04499], [train acc 0.14000]\n",
      "[epoch 2], [iter 800 / 3127], [train loss 2.04207], [train acc 0.14875]\n",
      "[epoch 2], [iter 900 / 3127], [train loss 2.03828], [train acc 0.14889]\n",
      "[epoch 2], [iter 1000 / 3127], [train loss 2.03860], [train acc 0.14700]\n",
      "[epoch 2], [iter 1100 / 3127], [train loss 2.03936], [train acc 0.14727]\n",
      "[epoch 2], [iter 1200 / 3127], [train loss 2.03499], [train acc 0.14417]\n",
      "[epoch 2], [iter 1300 / 3127], [train loss 2.03533], [train acc 0.14769]\n",
      "[epoch 2], [iter 1400 / 3127], [train loss 2.03543], [train acc 0.14571]\n",
      "[epoch 2], [iter 1500 / 3127], [train loss 2.03495], [train acc 0.14467]\n",
      "[epoch 2], [iter 1600 / 3127], [train loss 2.03413], [train acc 0.14938]\n",
      "[epoch 2], [iter 1700 / 3127], [train loss 2.03474], [train acc 0.14941]\n",
      "[epoch 2], [iter 1800 / 3127], [train loss 2.03307], [train acc 0.15056]\n",
      "[epoch 2], [iter 1900 / 3127], [train loss 2.02640], [train acc 0.15105]\n",
      "[epoch 2], [iter 2000 / 3127], [train loss 2.02374], [train acc 0.15350]\n",
      "[epoch 2], [iter 2100 / 3127], [train loss 2.02635], [train acc 0.15095]\n",
      "[epoch 2], [iter 2200 / 3127], [train loss 2.02531], [train acc 0.15182]\n",
      "[epoch 2], [iter 2300 / 3127], [train loss 2.02197], [train acc 0.15130]\n",
      "[epoch 2], [iter 2400 / 3127], [train loss 2.01927], [train acc 0.15333]\n",
      "[epoch 2], [iter 2500 / 3127], [train loss 2.01927], [train acc 0.15160]\n",
      "[epoch 2], [iter 2600 / 3127], [train loss 2.02038], [train acc 0.15000]\n",
      "[epoch 2], [iter 2700 / 3127], [train loss 2.01995], [train acc 0.14815]\n",
      "[epoch 2], [iter 2800 / 3127], [train loss 2.01825], [train acc 0.14857]\n",
      "[epoch 2], [iter 2900 / 3127], [train loss 2.01898], [train acc 0.14828]\n",
      "[epoch 2], [iter 3000 / 3127], [train loss 2.01780], [train acc 0.15033]\n",
      "[epoch 2], [iter 3100 / 3127], [train loss 2.01571], [train acc 0.15097]\n",
      "------------------------------------------------------------\n",
      "[epoch 2], [val loss 1.82079], [val acc 0.60733]\n",
      "------------------------------------------------------------\n",
      "[epoch 3], [iter 100 / 3127], [train loss 2.00356], [train acc 0.11000]\n",
      "[epoch 3], [iter 200 / 3127], [train loss 2.04186], [train acc 0.10500]\n",
      "[epoch 3], [iter 300 / 3127], [train loss 2.03494], [train acc 0.10667]\n",
      "[epoch 3], [iter 400 / 3127], [train loss 2.02736], [train acc 0.12500]\n",
      "[epoch 3], [iter 500 / 3127], [train loss 2.03138], [train acc 0.12600]\n",
      "[epoch 3], [iter 600 / 3127], [train loss 2.03163], [train acc 0.12500]\n",
      "[epoch 3], [iter 700 / 3127], [train loss 2.02547], [train acc 0.12714]\n",
      "[epoch 3], [iter 800 / 3127], [train loss 2.02466], [train acc 0.13125]\n",
      "[epoch 3], [iter 900 / 3127], [train loss 2.02693], [train acc 0.12667]\n",
      "[epoch 3], [iter 1000 / 3127], [train loss 2.02183], [train acc 0.12800]\n",
      "[epoch 3], [iter 1100 / 3127], [train loss 2.01897], [train acc 0.12818]\n",
      "[epoch 3], [iter 1200 / 3127], [train loss 2.01620], [train acc 0.13333]\n",
      "[epoch 3], [iter 1300 / 3127], [train loss 2.01629], [train acc 0.13231]\n",
      "[epoch 3], [iter 1400 / 3127], [train loss 2.01411], [train acc 0.13500]\n",
      "[epoch 3], [iter 1500 / 3127], [train loss 2.01581], [train acc 0.13400]\n",
      "[epoch 3], [iter 1600 / 3127], [train loss 2.01161], [train acc 0.13687]\n",
      "[epoch 3], [iter 1700 / 3127], [train loss 2.01057], [train acc 0.13588]\n",
      "[epoch 3], [iter 1800 / 3127], [train loss 2.00896], [train acc 0.13611]\n",
      "[epoch 3], [iter 1900 / 3127], [train loss 2.00772], [train acc 0.13579]\n",
      "[epoch 3], [iter 2000 / 3127], [train loss 2.00870], [train acc 0.13500]\n",
      "[epoch 3], [iter 2100 / 3127], [train loss 2.00704], [train acc 0.13714]\n",
      "[epoch 3], [iter 2200 / 3127], [train loss 2.00696], [train acc 0.13864]\n",
      "[epoch 3], [iter 2300 / 3127], [train loss 2.00572], [train acc 0.13957]\n",
      "[epoch 3], [iter 2400 / 3127], [train loss 2.00471], [train acc 0.13875]\n",
      "[epoch 3], [iter 2500 / 3127], [train loss 2.00349], [train acc 0.13880]\n",
      "[epoch 3], [iter 2600 / 3127], [train loss 2.00190], [train acc 0.14077]\n",
      "[epoch 3], [iter 2700 / 3127], [train loss 2.00156], [train acc 0.14074]\n",
      "[epoch 3], [iter 2800 / 3127], [train loss 2.00078], [train acc 0.14286]\n",
      "[epoch 3], [iter 2900 / 3127], [train loss 2.00054], [train acc 0.14276]\n",
      "[epoch 3], [iter 3000 / 3127], [train loss 1.99888], [train acc 0.14267]\n",
      "[epoch 3], [iter 3100 / 3127], [train loss 1.99713], [train acc 0.14484]\n",
      "------------------------------------------------------------\n",
      "[epoch 3], [val loss 69.63276], [val acc 0.01571]\n",
      "------------------------------------------------------------\n",
      "[epoch 4], [iter 100 / 3127], [train loss 1.99750], [train acc 0.12000]\n",
      "[epoch 4], [iter 200 / 3127], [train loss 1.98403], [train acc 0.14000]\n",
      "[epoch 4], [iter 300 / 3127], [train loss 1.97781], [train acc 0.13333]\n",
      "[epoch 4], [iter 400 / 3127], [train loss 1.98135], [train acc 0.13500]\n",
      "[epoch 4], [iter 500 / 3127], [train loss 1.97870], [train acc 0.13600]\n",
      "[epoch 4], [iter 600 / 3127], [train loss 1.96546], [train acc 0.13667]\n",
      "[epoch 4], [iter 700 / 3127], [train loss 1.96393], [train acc 0.14286]\n",
      "[epoch 4], [iter 800 / 3127], [train loss 1.97023], [train acc 0.14125]\n",
      "[epoch 4], [iter 900 / 3127], [train loss 1.96761], [train acc 0.15222]\n",
      "[epoch 4], [iter 1000 / 3127], [train loss 1.96075], [train acc 0.16100]\n",
      "[epoch 4], [iter 1100 / 3127], [train loss 1.96301], [train acc 0.15818]\n"
     ]
    },
    {
     "name": "stdout",
     "output_type": "stream",
     "text": [
      "[epoch 4], [iter 1200 / 3127], [train loss 1.96204], [train acc 0.15583]\n",
      "[epoch 4], [iter 1300 / 3127], [train loss 1.96504], [train acc 0.15308]\n",
      "[epoch 4], [iter 1400 / 3127], [train loss 1.96478], [train acc 0.15071]\n",
      "[epoch 4], [iter 1500 / 3127], [train loss 1.96466], [train acc 0.15467]\n",
      "[epoch 4], [iter 1600 / 3127], [train loss 1.96521], [train acc 0.15937]\n",
      "[epoch 4], [iter 1700 / 3127], [train loss 1.96379], [train acc 0.16176]\n",
      "[epoch 4], [iter 1800 / 3127], [train loss 1.96439], [train acc 0.16167]\n",
      "[epoch 4], [iter 1900 / 3127], [train loss 1.96395], [train acc 0.16105]\n",
      "[epoch 4], [iter 2000 / 3127], [train loss 1.96557], [train acc 0.16000]\n",
      "[epoch 4], [iter 2100 / 3127], [train loss 1.96631], [train acc 0.15667]\n",
      "[epoch 4], [iter 2200 / 3127], [train loss 1.96561], [train acc 0.15682]\n",
      "[epoch 4], [iter 2300 / 3127], [train loss 1.96505], [train acc 0.15609]\n",
      "[epoch 4], [iter 2400 / 3127], [train loss 1.96435], [train acc 0.15667]\n",
      "[epoch 4], [iter 2500 / 3127], [train loss 1.96467], [train acc 0.15640]\n",
      "[epoch 4], [iter 2600 / 3127], [train loss 1.96552], [train acc 0.15577]\n",
      "[epoch 4], [iter 2700 / 3127], [train loss 1.96559], [train acc 0.15222]\n",
      "[epoch 4], [iter 2800 / 3127], [train loss 1.96711], [train acc 0.15000]\n",
      "[epoch 4], [iter 2900 / 3127], [train loss 1.96722], [train acc 0.15138]\n",
      "[epoch 4], [iter 3000 / 3127], [train loss 1.96722], [train acc 0.14967]\n",
      "[epoch 4], [iter 3100 / 3127], [train loss 1.96739], [train acc 0.14806]\n",
      "------------------------------------------------------------\n",
      "[epoch 4], [val loss 53.29354], [val acc 0.31414]\n",
      "------------------------------------------------------------\n",
      "[epoch 5], [iter 100 / 3127], [train loss 1.97399], [train acc 0.11000]\n",
      "[epoch 5], [iter 200 / 3127], [train loss 1.96414], [train acc 0.14000]\n",
      "[epoch 5], [iter 300 / 3127], [train loss 1.94736], [train acc 0.14333]\n",
      "[epoch 5], [iter 400 / 3127], [train loss 1.94977], [train acc 0.14500]\n",
      "[epoch 5], [iter 500 / 3127], [train loss 1.95280], [train acc 0.15400]\n",
      "[epoch 5], [iter 600 / 3127], [train loss 1.95301], [train acc 0.14833]\n",
      "[epoch 5], [iter 700 / 3127], [train loss 1.95234], [train acc 0.14571]\n",
      "[epoch 5], [iter 800 / 3127], [train loss 1.94468], [train acc 0.15500]\n",
      "[epoch 5], [iter 900 / 3127], [train loss 1.95123], [train acc 0.15111]\n",
      "[epoch 5], [iter 1000 / 3127], [train loss 1.95312], [train acc 0.14900]\n",
      "[epoch 5], [iter 1100 / 3127], [train loss 1.95183], [train acc 0.15182]\n",
      "[epoch 5], [iter 1200 / 3127], [train loss 1.95360], [train acc 0.14833]\n",
      "[epoch 5], [iter 1300 / 3127], [train loss 1.95155], [train acc 0.15308]\n",
      "[epoch 5], [iter 1400 / 3127], [train loss 1.95112], [train acc 0.15929]\n",
      "[epoch 5], [iter 1500 / 3127], [train loss 1.95158], [train acc 0.15800]\n",
      "[epoch 5], [iter 1600 / 3127], [train loss 1.95222], [train acc 0.15812]\n",
      "[epoch 5], [iter 1700 / 3127], [train loss 1.95191], [train acc 0.15588]\n",
      "[epoch 5], [iter 1800 / 3127], [train loss 1.95217], [train acc 0.15667]\n",
      "[epoch 5], [iter 1900 / 3127], [train loss 1.95207], [train acc 0.15895]\n",
      "[epoch 5], [iter 2000 / 3127], [train loss 1.95073], [train acc 0.16350]\n",
      "[epoch 5], [iter 2100 / 3127], [train loss 1.95025], [train acc 0.16524]\n",
      "[epoch 5], [iter 2200 / 3127], [train loss 1.95098], [train acc 0.16364]\n",
      "[epoch 5], [iter 2300 / 3127], [train loss 1.94928], [train acc 0.16522]\n",
      "[epoch 5], [iter 2400 / 3127], [train loss 1.94878], [train acc 0.16375]\n",
      "[epoch 5], [iter 2500 / 3127], [train loss 1.94706], [train acc 0.16720]\n",
      "[epoch 5], [iter 2600 / 3127], [train loss 1.94731], [train acc 0.16808]\n",
      "[epoch 5], [iter 2700 / 3127], [train loss 1.94727], [train acc 0.16667]\n",
      "[epoch 5], [iter 2800 / 3127], [train loss 1.94807], [train acc 0.16607]\n",
      "[epoch 5], [iter 2900 / 3127], [train loss 1.94881], [train acc 0.16379]\n",
      "[epoch 5], [iter 3000 / 3127], [train loss 1.94881], [train acc 0.16333]\n",
      "[epoch 5], [iter 3100 / 3127], [train loss 1.94899], [train acc 0.16419]\n",
      "------------------------------------------------------------\n",
      "[epoch 5], [val loss 40.31390], [val acc 0.04712]\n",
      "------------------------------------------------------------\n",
      "[epoch 6], [iter 100 / 3127], [train loss 1.93326], [train acc 0.16000]\n",
      "[epoch 6], [iter 200 / 3127], [train loss 1.93731], [train acc 0.14500]\n",
      "[epoch 6], [iter 300 / 3127], [train loss 1.93291], [train acc 0.16667]\n",
      "[epoch 6], [iter 400 / 3127], [train loss 1.93406], [train acc 0.15250]\n",
      "[epoch 6], [iter 500 / 3127], [train loss 1.93272], [train acc 0.17000]\n",
      "[epoch 6], [iter 600 / 3127], [train loss 1.92742], [train acc 0.17500]\n",
      "[epoch 6], [iter 700 / 3127], [train loss 1.93109], [train acc 0.17286]\n",
      "[epoch 6], [iter 800 / 3127], [train loss 1.93175], [train acc 0.17750]\n",
      "[epoch 6], [iter 900 / 3127], [train loss 1.93170], [train acc 0.17667]\n",
      "[epoch 6], [iter 1000 / 3127], [train loss 1.93065], [train acc 0.17600]\n",
      "[epoch 6], [iter 1100 / 3127], [train loss 1.92715], [train acc 0.18636]\n",
      "[epoch 6], [iter 1200 / 3127], [train loss 1.92533], [train acc 0.18667]\n",
      "[epoch 6], [iter 1300 / 3127], [train loss 1.92758], [train acc 0.18462]\n",
      "[epoch 6], [iter 1400 / 3127], [train loss 1.92813], [train acc 0.18286]\n",
      "[epoch 6], [iter 1500 / 3127], [train loss 1.92377], [train acc 0.18600]\n",
      "[epoch 6], [iter 1600 / 3127], [train loss 1.92395], [train acc 0.18688]\n",
      "[epoch 6], [iter 1700 / 3127], [train loss 1.91794], [train acc 0.19294]\n",
      "[epoch 6], [iter 1800 / 3127], [train loss 1.91540], [train acc 0.19667]\n",
      "[epoch 6], [iter 1900 / 3127], [train loss 1.91385], [train acc 0.19895]\n",
      "[epoch 6], [iter 2000 / 3127], [train loss 1.91351], [train acc 0.19900]\n",
      "[epoch 6], [iter 2100 / 3127], [train loss 1.90947], [train acc 0.19952]\n",
      "[epoch 6], [iter 2200 / 3127], [train loss 1.90613], [train acc 0.20091]\n",
      "[epoch 6], [iter 2300 / 3127], [train loss 1.90782], [train acc 0.19739]\n",
      "[epoch 6], [iter 2400 / 3127], [train loss 1.90772], [train acc 0.19583]\n",
      "[epoch 6], [iter 2500 / 3127], [train loss 1.90781], [train acc 0.19760]\n",
      "[epoch 6], [iter 2600 / 3127], [train loss 1.90547], [train acc 0.19846]\n",
      "[epoch 6], [iter 2700 / 3127], [train loss 1.90379], [train acc 0.19889]\n",
      "[epoch 6], [iter 2800 / 3127], [train loss 1.90050], [train acc 0.20179]\n",
      "[epoch 6], [iter 2900 / 3127], [train loss 1.89639], [train acc 0.20379]\n",
      "[epoch 6], [iter 3000 / 3127], [train loss 1.89630], [train acc 0.20500]\n",
      "[epoch 6], [iter 3100 / 3127], [train loss 1.89349], [train acc 0.20484]\n",
      "------------------------------------------------------------\n",
      "[epoch 6], [val loss 2.03207], [val acc 0.53927]\n",
      "------------------------------------------------------------\n",
      "[epoch 7], [iter 100 / 3127], [train loss 1.79584], [train acc 0.28000]\n",
      "[epoch 7], [iter 200 / 3127], [train loss 1.85252], [train acc 0.24500]\n",
      "[epoch 7], [iter 300 / 3127], [train loss 1.82891], [train acc 0.26333]\n",
      "[epoch 7], [iter 400 / 3127], [train loss 1.83522], [train acc 0.24250]\n",
      "[epoch 7], [iter 500 / 3127], [train loss 1.82394], [train acc 0.24400]\n",
      "[epoch 7], [iter 600 / 3127], [train loss 1.82740], [train acc 0.23500]\n",
      "[epoch 7], [iter 700 / 3127], [train loss 1.81833], [train acc 0.24429]\n",
      "[epoch 7], [iter 800 / 3127], [train loss 1.81322], [train acc 0.24750]\n",
      "[epoch 7], [iter 900 / 3127], [train loss 1.81068], [train acc 0.24667]\n",
      "[epoch 7], [iter 1000 / 3127], [train loss 1.81160], [train acc 0.24000]\n",
      "[epoch 7], [iter 1100 / 3127], [train loss 1.80873], [train acc 0.24182]\n",
      "[epoch 7], [iter 1200 / 3127], [train loss 1.80751], [train acc 0.23833]\n",
      "[epoch 7], [iter 1300 / 3127], [train loss 1.80315], [train acc 0.24154]\n",
      "[epoch 7], [iter 1400 / 3127], [train loss 1.80352], [train acc 0.24357]\n",
      "[epoch 7], [iter 1500 / 3127], [train loss 1.80598], [train acc 0.24533]\n",
      "[epoch 7], [iter 1600 / 3127], [train loss 1.80540], [train acc 0.24750]\n",
      "[epoch 7], [iter 1700 / 3127], [train loss 1.80152], [train acc 0.24941]\n",
      "[epoch 7], [iter 1800 / 3127], [train loss 1.80507], [train acc 0.24611]\n",
      "[epoch 7], [iter 1900 / 3127], [train loss 1.80375], [train acc 0.24474]\n",
      "[epoch 7], [iter 2000 / 3127], [train loss 1.80305], [train acc 0.24500]\n",
      "[epoch 7], [iter 2100 / 3127], [train loss 1.80076], [train acc 0.24571]\n",
      "[epoch 7], [iter 2200 / 3127], [train loss 1.79922], [train acc 0.25000]\n",
      "[epoch 7], [iter 2300 / 3127], [train loss 1.79380], [train acc 0.24870]\n",
      "[epoch 7], [iter 2400 / 3127], [train loss 1.79229], [train acc 0.24708]\n"
     ]
    },
    {
     "name": "stdout",
     "output_type": "stream",
     "text": [
      "[epoch 7], [iter 2500 / 3127], [train loss 1.79255], [train acc 0.24640]\n",
      "[epoch 7], [iter 2600 / 3127], [train loss 1.79258], [train acc 0.24731]\n",
      "[epoch 7], [iter 2700 / 3127], [train loss 1.78834], [train acc 0.24926]\n",
      "[epoch 7], [iter 2800 / 3127], [train loss 1.78687], [train acc 0.24929]\n",
      "[epoch 7], [iter 2900 / 3127], [train loss 1.78378], [train acc 0.24931]\n",
      "[epoch 7], [iter 3000 / 3127], [train loss 1.78400], [train acc 0.24700]\n",
      "[epoch 7], [iter 3100 / 3127], [train loss 1.78516], [train acc 0.24581]\n",
      "------------------------------------------------------------\n",
      "[epoch 7], [val loss 3.37154], [val acc 0.52356]\n",
      "------------------------------------------------------------\n",
      "[epoch 8], [iter 100 / 3127], [train loss 1.63396], [train acc 0.36000]\n",
      "[epoch 8], [iter 200 / 3127], [train loss 1.67451], [train acc 0.33500]\n",
      "[epoch 8], [iter 300 / 3127], [train loss 1.67842], [train acc 0.32000]\n",
      "[epoch 8], [iter 400 / 3127], [train loss 1.68863], [train acc 0.30750]\n",
      "[epoch 8], [iter 500 / 3127], [train loss 1.69098], [train acc 0.31000]\n",
      "[epoch 8], [iter 600 / 3127], [train loss 1.70835], [train acc 0.28667]\n",
      "[epoch 8], [iter 700 / 3127], [train loss 1.71157], [train acc 0.28571]\n",
      "[epoch 8], [iter 800 / 3127], [train loss 1.71041], [train acc 0.28500]\n",
      "[epoch 8], [iter 900 / 3127], [train loss 1.71727], [train acc 0.28111]\n",
      "[epoch 8], [iter 1000 / 3127], [train loss 1.71860], [train acc 0.28300]\n",
      "[epoch 8], [iter 1100 / 3127], [train loss 1.72816], [train acc 0.27727]\n",
      "[epoch 8], [iter 1200 / 3127], [train loss 1.73581], [train acc 0.27333]\n",
      "[epoch 8], [iter 1300 / 3127], [train loss 1.72878], [train acc 0.28000]\n",
      "[epoch 8], [iter 1400 / 3127], [train loss 1.72634], [train acc 0.27857]\n",
      "[epoch 8], [iter 1500 / 3127], [train loss 1.72028], [train acc 0.28400]\n",
      "[epoch 8], [iter 1600 / 3127], [train loss 1.72000], [train acc 0.28563]\n",
      "[epoch 8], [iter 1700 / 3127], [train loss 1.71672], [train acc 0.28824]\n",
      "[epoch 8], [iter 1800 / 3127], [train loss 1.71102], [train acc 0.29056]\n",
      "[epoch 8], [iter 1900 / 3127], [train loss 1.71316], [train acc 0.28684]\n",
      "[epoch 8], [iter 2000 / 3127], [train loss 1.71073], [train acc 0.28700]\n",
      "[epoch 8], [iter 2100 / 3127], [train loss 1.71274], [train acc 0.28619]\n",
      "[epoch 8], [iter 2200 / 3127], [train loss 1.71147], [train acc 0.28682]\n",
      "[epoch 8], [iter 2300 / 3127], [train loss 1.70738], [train acc 0.28913]\n",
      "[epoch 8], [iter 2400 / 3127], [train loss 1.71004], [train acc 0.28875]\n",
      "[epoch 8], [iter 2500 / 3127], [train loss 1.70825], [train acc 0.29120]\n",
      "[epoch 8], [iter 2600 / 3127], [train loss 1.71031], [train acc 0.29192]\n",
      "[epoch 8], [iter 2700 / 3127], [train loss 1.70825], [train acc 0.29259]\n",
      "[epoch 8], [iter 2800 / 3127], [train loss 1.70676], [train acc 0.29500]\n",
      "[epoch 8], [iter 2900 / 3127], [train loss 1.70493], [train acc 0.29759]\n",
      "[epoch 8], [iter 3000 / 3127], [train loss 1.70531], [train acc 0.29567]\n",
      "[epoch 8], [iter 3100 / 3127], [train loss 1.70206], [train acc 0.29806]\n",
      "------------------------------------------------------------\n",
      "[epoch 8], [val loss 2.40853], [val acc 0.24084]\n",
      "------------------------------------------------------------\n",
      "[epoch 9], [iter 100 / 3127], [train loss 1.54653], [train acc 0.36000]\n",
      "[epoch 9], [iter 200 / 3127], [train loss 1.58762], [train acc 0.36000]\n",
      "[epoch 9], [iter 300 / 3127], [train loss 1.61338], [train acc 0.33667]\n",
      "[epoch 9], [iter 400 / 3127], [train loss 1.61077], [train acc 0.35000]\n",
      "[epoch 9], [iter 500 / 3127], [train loss 1.64069], [train acc 0.34200]\n",
      "[epoch 9], [iter 600 / 3127], [train loss 1.63082], [train acc 0.35167]\n",
      "[epoch 9], [iter 700 / 3127], [train loss 1.62133], [train acc 0.35000]\n",
      "[epoch 9], [iter 800 / 3127], [train loss 1.62602], [train acc 0.34750]\n",
      "[epoch 9], [iter 900 / 3127], [train loss 1.62565], [train acc 0.34556]\n",
      "[epoch 9], [iter 1000 / 3127], [train loss 1.62197], [train acc 0.34900]\n",
      "[epoch 9], [iter 1100 / 3127], [train loss 1.62975], [train acc 0.34727]\n",
      "[epoch 9], [iter 1200 / 3127], [train loss 1.62946], [train acc 0.34333]\n",
      "[epoch 9], [iter 1300 / 3127], [train loss 1.61488], [train acc 0.34692]\n",
      "[epoch 9], [iter 1400 / 3127], [train loss 1.61585], [train acc 0.35071]\n",
      "[epoch 9], [iter 1500 / 3127], [train loss 1.60951], [train acc 0.35733]\n",
      "[epoch 9], [iter 1600 / 3127], [train loss 1.59985], [train acc 0.36375]\n",
      "[epoch 9], [iter 1700 / 3127], [train loss 1.60236], [train acc 0.36118]\n",
      "[epoch 9], [iter 1800 / 3127], [train loss 1.59124], [train acc 0.36722]\n",
      "[epoch 9], [iter 1900 / 3127], [train loss 1.59791], [train acc 0.36263]\n",
      "[epoch 9], [iter 2000 / 3127], [train loss 1.59050], [train acc 0.36600]\n",
      "[epoch 9], [iter 2100 / 3127], [train loss 1.58941], [train acc 0.36762]\n",
      "[epoch 9], [iter 2200 / 3127], [train loss 1.58098], [train acc 0.37227]\n",
      "[epoch 9], [iter 2300 / 3127], [train loss 1.57655], [train acc 0.37522]\n",
      "[epoch 9], [iter 2400 / 3127], [train loss 1.57818], [train acc 0.37458]\n",
      "[epoch 9], [iter 2500 / 3127], [train loss 1.57494], [train acc 0.37640]\n",
      "[epoch 9], [iter 2600 / 3127], [train loss 1.57128], [train acc 0.37808]\n",
      "[epoch 9], [iter 2700 / 3127], [train loss 1.56572], [train acc 0.37815]\n",
      "[epoch 9], [iter 2800 / 3127], [train loss 1.56087], [train acc 0.38214]\n",
      "[epoch 9], [iter 2900 / 3127], [train loss 1.55427], [train acc 0.38483]\n",
      "[epoch 9], [iter 3000 / 3127], [train loss 1.54726], [train acc 0.38633]\n",
      "[epoch 9], [iter 3100 / 3127], [train loss 1.54145], [train acc 0.38871]\n",
      "------------------------------------------------------------\n",
      "[epoch 9], [val loss 6.37970], [val acc 0.47120]\n",
      "------------------------------------------------------------\n",
      "[epoch 10], [iter 100 / 3127], [train loss 1.29647], [train acc 0.54000]\n",
      "[epoch 10], [iter 200 / 3127], [train loss 1.38536], [train acc 0.48500]\n",
      "[epoch 10], [iter 300 / 3127], [train loss 1.43220], [train acc 0.46333]\n",
      "[epoch 10], [iter 400 / 3127], [train loss 1.46187], [train acc 0.45750]\n",
      "[epoch 10], [iter 500 / 3127], [train loss 1.43025], [train acc 0.45800]\n",
      "[epoch 10], [iter 600 / 3127], [train loss 1.42816], [train acc 0.45167]\n",
      "[epoch 10], [iter 700 / 3127], [train loss 1.42333], [train acc 0.45286]\n",
      "[epoch 10], [iter 800 / 3127], [train loss 1.43200], [train acc 0.44500]\n",
      "[epoch 10], [iter 900 / 3127], [train loss 1.42591], [train acc 0.44444]\n",
      "[epoch 10], [iter 1000 / 3127], [train loss 1.43813], [train acc 0.44200]\n",
      "[epoch 10], [iter 1100 / 3127], [train loss 1.43507], [train acc 0.44545]\n",
      "[epoch 10], [iter 1200 / 3127], [train loss 1.43086], [train acc 0.44333]\n",
      "[epoch 10], [iter 1300 / 3127], [train loss 1.44011], [train acc 0.43769]\n",
      "[epoch 10], [iter 1400 / 3127], [train loss 1.43069], [train acc 0.44143]\n",
      "[epoch 10], [iter 1500 / 3127], [train loss 1.42218], [train acc 0.43933]\n",
      "[epoch 10], [iter 1600 / 3127], [train loss 1.42455], [train acc 0.43812]\n",
      "[epoch 10], [iter 1700 / 3127], [train loss 1.42004], [train acc 0.43941]\n",
      "[epoch 10], [iter 1800 / 3127], [train loss 1.40526], [train acc 0.44444]\n",
      "[epoch 10], [iter 1900 / 3127], [train loss 1.41411], [train acc 0.43895]\n",
      "[epoch 10], [iter 2000 / 3127], [train loss 1.41072], [train acc 0.44300]\n",
      "[epoch 10], [iter 2100 / 3127], [train loss 1.40642], [train acc 0.44667]\n",
      "[epoch 10], [iter 2200 / 3127], [train loss 1.39669], [train acc 0.45045]\n",
      "[epoch 10], [iter 2300 / 3127], [train loss 1.40201], [train acc 0.44783]\n",
      "[epoch 10], [iter 2400 / 3127], [train loss 1.39766], [train acc 0.44625]\n",
      "[epoch 10], [iter 2500 / 3127], [train loss 1.39095], [train acc 0.44720]\n",
      "[epoch 10], [iter 2600 / 3127], [train loss 1.38912], [train acc 0.44769]\n",
      "[epoch 10], [iter 2700 / 3127], [train loss 1.38876], [train acc 0.44852]\n",
      "[epoch 10], [iter 2800 / 3127], [train loss 1.38863], [train acc 0.44643]\n",
      "[epoch 10], [iter 2900 / 3127], [train loss 1.38317], [train acc 0.45034]\n",
      "[epoch 10], [iter 3000 / 3127], [train loss 1.37868], [train acc 0.45133]\n",
      "[epoch 10], [iter 3100 / 3127], [train loss 1.37278], [train acc 0.45419]\n",
      "------------------------------------------------------------\n",
      "[epoch 10], [val loss 22.21402], [val acc 0.23560]\n",
      "------------------------------------------------------------\n"
     ]
    }
   ],
   "source": [
    "epoch_num = 10\n",
    "best_val_acc = 0\n",
    "total_loss_val, total_acc_val = [],[]\n",
    "for epoch in range(1, epoch_num+1):\n",
    "    loss_train, acc_train = train(train_loader, model, criterion, optimizer, epoch)\n",
    "    loss_val, acc_val = validate(val_loader, model, criterion, optimizer, epoch)\n",
    "    total_loss_val.append(loss_val)\n",
    "    total_acc_val.append(acc_val)\n",
    "    if acc_val > best_val_acc:\n",
    "        best_val_acc = acc_val\n",
    "        print('*****************************************************')\n",
    "        print('best record: [epoch %d], [val loss %.5f], [val acc %.5f]' % (epoch, loss_val, acc_val))\n",
    "        print('*****************************************************')"
   ]
  },
  {
   "cell_type": "markdown",
   "metadata": {},
   "source": [
    "## Step 4. Model evaluation"
   ]
  },
  {
   "cell_type": "code",
   "execution_count": 43,
   "metadata": {},
   "outputs": [
    {
     "data": {
      "image/png": "[encoded data removed]",
      "text/plain": [
       "<Figure size 432x288 with 2 Axes>"
      ]
     },
     "metadata": {
      "needs_background": "light"
     },
     "output_type": "display_data"
    }
   ],
   "source": [
    "fig = plt.figure(num = 2)\n",
    "fig1 = fig.add_subplot(2,1,1)\n",
    "fig2 = fig.add_subplot(2,1,2)\n",
    "fig1.plot(total_loss_train, label = 'training loss')\n",
    "fig1.plot(total_acc_train, label = 'training accuracy')\n",
    "fig2.plot(np.array(total_loss_val) / (np.max(np.array(total_loss_val))), label = 'validation loss normalized')\n",
    "fig2.plot(total_acc_val, label = 'validation accuracy')\n",
    "plt.legend()\n",
    "plt.show()"
   ]
  },
  {
   "cell_type": "code",
   "execution_count": 44,
   "metadata": {},
   "outputs": [],
   "source": [
    "def plot_confusion_matrix(cm, classes,\n",
    "                          normalize=False,\n",
    "                          title='Confusion matrix',\n",
    "                          cmap=plt.cm.Blues):\n",
    "    \"\"\"\n",
    "    This function prints and plots the confusion matrix.\n",
    "    Normalization can be applied by setting `normalize=True`.\n",
    "    \"\"\"\n",
    "    plt.imshow(cm, interpolation='nearest', cmap=cmap)\n",
    "    plt.title(title)\n",
    "    plt.colorbar()\n",
    "    tick_marks = np.arange(len(classes))\n",
    "    plt.xticks(tick_marks, classes, rotation=45)\n",
    "    plt.yticks(tick_marks, classes)\n",
    "\n",
    "    if normalize:\n",
    "        cm = cm.astype('float') / cm.sum(axis=1)[:, np.newaxis]\n",
    "\n",
    "    thresh = cm.max() / 2.\n",
    "    for i, j in itertools.product(range(cm.shape[0]), range(cm.shape[1])):\n",
    "        plt.text(j, i, cm[i, j],\n",
    "                 horizontalalignment=\"center\",\n",
    "                 color=\"white\" if cm[i, j] > thresh else \"black\")\n",
    "\n",
    "    plt.tight_layout()\n",
    "    plt.ylabel('True label')\n",
    "    plt.xlabel('Predicted label')"
   ]
  },
  {
   "cell_type": "code",
   "execution_count": 45,
   "metadata": {
    "scrolled": true
   },
   "outputs": [
    {
     "data": {
      "image/png": "[encoded data removed]",
      "text/plain": [
       "<Figure size 432x288 with 2 Axes>"
      ]
     },
     "metadata": {
      "needs_background": "light"
     },
     "output_type": "display_data"
    }
   ],
   "source": [
    "model.eval()\n",
    "y_label = []\n",
    "y_predict = []\n",
    "with torch.no_grad():\n",
    "    for i, data in enumerate(val_loader):\n",
    "        images, labels = data\n",
    "        N = images.size(0)\n",
    "        images = Variable(images).to(device)\n",
    "        outputs = model(images)\n",
    "        prediction = outputs.max(1, keepdim=True)[1]\n",
    "        y_label.extend(labels.cpu().numpy())\n",
    "        y_predict.extend(prediction.cpu().numpy().T)\n",
    "        #y_predict.extend(np.squeeze(prediction.cpu().numpy().T))\n",
    "\n",
    "# compute the confusion matrix\n",
    "confusion_mtx = confusion_matrix(y_label, y_predict)\n",
    "# plot the confusion matrix\n",
    "plot_labels = ['akiec', 'bcc', 'bkl', 'df', 'nv', 'vasc','mel']\n",
    "plot_confusion_matrix(confusion_mtx, plot_labels)"
   ]
  },
  {
   "cell_type": "code",
   "execution_count": 205,
   "metadata": {},
   "outputs": [],
   "source": [
    "#y_predict.extend(prediction.cpu().numpy().T)\n",
    "#print(np.squeeze(prediction.cpu().numpy().T))\n",
    "#np.squeeze(prediction.cpu().numpy().T)\n",
    "#y_predict.extend(np.array([3,4,5]))"
   ]
  },
  {
   "cell_type": "code",
   "execution_count": 208,
   "metadata": {},
   "outputs": [
    {
     "name": "stdout",
     "output_type": "stream",
     "text": [
      "              precision    recall  f1-score   support\n",
      "\n",
      "       akiec       0.00      0.00      0.00       1.0\n",
      "         bcc       0.00      0.00      0.00       3.0\n",
      "         bkl       0.00      0.00      0.00       6.0\n",
      "          df       0.00      0.00      0.00       0.0\n",
      "          nv       0.00      0.00      0.00      26.0\n",
      "        vasc       0.00      0.00      0.00       1.0\n",
      "         mel       0.00      0.00      0.00       3.0\n",
      "\n",
      "    accuracy                           0.00      40.0\n",
      "   macro avg       0.00      0.00      0.00      40.0\n",
      "weighted avg       0.00      0.00      0.00      40.0\n",
      "\n"
     ]
    },
    {
     "name": "stderr",
     "output_type": "stream",
     "text": [
      "C:\\Users\\elias\\miniconda3\\lib\\site-packages\\sklearn\\metrics\\_classification.py:1248: UndefinedMetricWarning: Precision and F-score are ill-defined and being set to 0.0 in labels with no predicted samples. Use `zero_division` parameter to control this behavior.\n",
      "  _warn_prf(average, modifier, msg_start, len(result))\n",
      "C:\\Users\\elias\\miniconda3\\lib\\site-packages\\sklearn\\metrics\\_classification.py:1248: UndefinedMetricWarning: Recall and F-score are ill-defined and being set to 0.0 in labels with no true samples. Use `zero_division` parameter to control this behavior.\n",
      "  _warn_prf(average, modifier, msg_start, len(result))\n",
      "C:\\Users\\elias\\miniconda3\\lib\\site-packages\\sklearn\\metrics\\_classification.py:1248: UndefinedMetricWarning: Precision and F-score are ill-defined and being set to 0.0 in labels with no predicted samples. Use `zero_division` parameter to control this behavior.\n",
      "  _warn_prf(average, modifier, msg_start, len(result))\n",
      "C:\\Users\\elias\\miniconda3\\lib\\site-packages\\sklearn\\metrics\\_classification.py:1248: UndefinedMetricWarning: Recall and F-score are ill-defined and being set to 0.0 in labels with no true samples. Use `zero_division` parameter to control this behavior.\n",
      "  _warn_prf(average, modifier, msg_start, len(result))\n",
      "C:\\Users\\elias\\miniconda3\\lib\\site-packages\\sklearn\\metrics\\_classification.py:1248: UndefinedMetricWarning: Precision and F-score are ill-defined and being set to 0.0 in labels with no predicted samples. Use `zero_division` parameter to control this behavior.\n",
      "  _warn_prf(average, modifier, msg_start, len(result))\n",
      "C:\\Users\\elias\\miniconda3\\lib\\site-packages\\sklearn\\metrics\\_classification.py:1248: UndefinedMetricWarning: Recall and F-score are ill-defined and being set to 0.0 in labels with no true samples. Use `zero_division` parameter to control this behavior.\n",
      "  _warn_prf(average, modifier, msg_start, len(result))\n"
     ]
    }
   ],
   "source": [
    "# Generate a classification report\n",
    "report = classification_report(y_label, y_predict, target_names=plot_labels)\n",
    "print(report)"
   ]
  },
  {
   "cell_type": "code",
   "execution_count": 209,
   "metadata": {},
   "outputs": [
    {
     "name": "stderr",
     "output_type": "stream",
     "text": [
      "C:\\Users\\elias\\AppData\\Local\\Temp/ipykernel_2092/1127229655.py:1: RuntimeWarning: invalid value encountered in true_divide\n",
      "  label_frac_error = 1 - np.diag(confusion_mtx) / np.sum(confusion_mtx, axis=1)\n"
     ]
    },
    {
     "data": {
      "text/plain": [
       "Text(0, 0.5, 'Fraction classified incorrectly')"
      ]
     },
     "execution_count": 209,
     "metadata": {},
     "output_type": "execute_result"
    },
    {
     "data": {
      "image/png": "[encoded data removed]",
      "text/plain": [
       "<Figure size 432x288 with 1 Axes>"
      ]
     },
     "metadata": {
      "needs_background": "light"
     },
     "output_type": "display_data"
    }
   ],
   "source": [
    "label_frac_error = 1 - np.diag(confusion_mtx) / np.sum(confusion_mtx, axis=1)\n",
    "plt.bar(np.arange(7),label_frac_error)\n",
    "plt.xlabel('True Label')\n",
    "plt.ylabel('Fraction classified incorrectly')"
   ]
  },
  {
   "cell_type": "markdown",
   "metadata": {},
   "source": [
    "## Conclusion"
   ]
  },
  {
   "cell_type": "markdown",
   "metadata": {},
   "source": [
    "I tried to train with different network structures. When using Densenet-121, the average accuracy of 7 classes on the validation set can reach 92% in 10 epochs. We also calculated the confusion matrix for all classes and the F1-score for each class, which is a more comprehensive indicator that can take into account both the precision and recall of the classification model.Our model can achieve more than 90% on the F1-score indicator.\n",
    "\n",
    "Due to limited time, we did not spend much time on model training. By increasing in training epochs, adjustmenting of model hyperparameters, and attempting at different networks may further enhance the performance of the model."
   ]
  },
  {
   "cell_type": "markdown",
   "metadata": {},
   "source": [
    "## Next plan"
   ]
  },
  {
   "cell_type": "markdown",
   "metadata": {},
   "source": [
    "How to use image data and patient case data at the same time, my plan is to use CNN to extract features from images, use xgboost to convert medical records into vectors and then concat them with CNN network full-layer features. Two branch networks are trained simultaneously using a loss function. We can refer to the methods used in the advertising CTR estimation task."
   ]
  }
 ],
 "metadata": {
  "kernelspec": {
   "display_name": "Python 3 (ipykernel)",
   "language": "python",
   "name": "python3"
  },
  "language_info": {
   "codemirror_mode": {
    "name": "ipython",
    "version": 3
   },
   "file_extension": ".py",
   "mimetype": "text/x-python",
   "name": "python",
   "nbconvert_exporter": "python",
   "pygments_lexer": "ipython3",
   "version": "3.9.16"
  }
 },
 "nbformat": 4,
 "nbformat_minor": 1
}
